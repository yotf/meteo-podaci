{
 "cells": [
  {
   "cell_type": "code",
   "execution_count": 2,
   "metadata": {},
   "outputs": [],
   "source": [
    "import pandas as pd\n",
    "import xlrd\n",
    "import re\n",
    "import numpy as np\n",
    "import seaborn as sns\n",
    "import matplotlib.pyplot as plt\n",
    "import os\n",
    "import datetime\n",
    "import math"
   ]
  },
  {
   "cell_type": "code",
   "execution_count": 13,
   "metadata": {},
   "outputs": [
    {
     "name": "stdout",
     "output_type": "stream",
     "text": [
      "00000EA5_station_data.xlsx\n",
      "00000EA5\n",
      "2010-04-20 00:00:00 2013-03-29 00:00:00\n",
      "2013-03-29 00:00:00 2019-01-26 19:42:26.782688\n",
      "00000E94_station_data.xlsx\n",
      "00000E94\n",
      "2010-04-16 00:00:00 2019-01-26 19:42:35.939762\n",
      "00000E9A_station_data.xls\n",
      "00000E9A\n",
      "2013-08-02 00:00:00 2018-11-19 00:00:00\n"
     ]
    }
   ],
   "source": [
    "folder_podataka = \"./PISpodaci\"\n",
    "pregled = pd.read_excel(\"../samoPouzdaniPodaciTabela.xlsx\", converters= {'kraj': pd.to_datetime, 'pocetak': pd.to_datetime})\n",
    "preslikavanje_opstina = {\"Novi Sad\": \"NS\", \"Ruma\":\"RU\",\"Sombor\":\"SO\"}\n",
    "preslikavanje_lokacija = {\"Cenej\": \"CE\" ,\"Novi Slankamen\":\"NS\",\"Ridjica\":\"RI\",\"Sremski Karlovci\":\"SK\"}\n",
    "z=None\n",
    "#za svaku PIS tabelu, cemo napraviti korespondirajucu PIS tabelu, sa pouzdanim podacima + vrsta i mesto\n",
    "# VAZNO !! Moraju biti prebaceni u xls format posle skidanja sa PIS sajta. To se moze uraditi otvaranjem u Excelu i cuvsanju u xls formatu\n",
    "for fname in os.listdir(folder_podataka):\n",
    "    print (fname)\n",
    "    #IZVLACENJE AMS naziva iz imena fajla !\n",
    "    ams =fname.split('_')[0] ## REFACTOR - ovo mora da bude regex. \n",
    "    #assert(len(ams)==8)\n",
    "    print(ams)\n",
    "    assert(re.match(\"0+[0-9A-F]+\",ams)) # REFACTOR - napravi bolji regex, more robust\n",
    "    #IZVLACENJE PODATAKA IZ PREGLED TABELE\n",
    "    record_for_ams = pregled[pregled.ams==ams] #za ovu ams samo trzimo records\n",
    "    record_for_ams = record_for_ams.fillna(pd.Timestamp.today())#najbolje bi ih bilo napuniti sa poslednjom vrednoscu tabele REFACTOR Ovo znaci da ako nije oznaceno, onda znaci da je jos uvek tamo ovaj, tako da mozemo sve podatke uzeti\n",
    "    #UCITAVANJE TABELE\n",
    "    PIStabela=pd.read_excel(os.path.join(folder_podataka,fname),header=[0,1])\n",
    "    PIStabela = PIStabela.sort_index()\n",
    "    #flattening the header\n",
    "    #SREDJIVANJE TABELE!!\n",
    "    PIStabela.columns = [' '.join(col).strip() for col in PIStabela.columns.values]\n",
    "    PIStabela = PIStabela.iloc[:,0:3]\n",
    "    columns_to_drop = []\n",
    "    assert(\"Temperature\" in col for col in PIStabela.columns)\n",
    "#z = pd.concat(z.values(),axis=0)\n",
    "    assert(len(PIStabela.columns)==3)\n",
    "    #prvo cemo ih iseci, i onda cemo ih spojiti u jednu tabelu !!\n",
    "    tabele_za_jedan_ams = []\n",
    "    missing_periods_za_jedan_ams = []\n",
    "    missing_data_za_ams = []\n",
    "    #idemo kroz PREGLED tabelu i za svaku stavku odvojim deo PIS tabele, koja je validna BTW\n",
    "    for index,row in record_for_ams.iterrows(): #dobro je ovo, za ea5 se trazi, to nam treba\n",
    "        assert(row.pocetak< row.kraj)\n",
    "        print (row.pocetak,row.kraj)\n",
    "        izuzet_dan_postavljanja = (row.pocetak+pd.offsets.DateOffset(days=1)) \n",
    "        #A dan skidanja????????? mislim da jeste po defaultu\n",
    "        novi = PIStabela.loc[izuzet_dan_postavljanja:row.kraj].copy() #pravimo novi frejm koji je kopija tog perioda, krecemo posle dana postavljanja, posto za to znamo da su nepouzdani TODO mozda napraviti malo preciznije odsecanje \n",
    "        novi[\"opstina\"] = row.opstina #popunjavamo podatke, koje sad znamo za sigurno\n",
    "        novi[\"mesto\"] = row.mesto\n",
    "        novi[\"usev\"] = row.usev\n",
    "        tabele_za_jedan_ams.append(novi) #jos uvek smo kod istog AMS-a, i sve sto nadjemo cemo nakaciti\n",
    "        #print (novi[pd.isna(novi.iloc[:,0:3][novi.iloc[:,0:3].applymap(np.isreal)])])\n",
    "        missing_temperatures = novi[novi.isnull().any(axis=1)] # kolone koje imaju nedostajuce vrednosti printamo\n",
    "        novi.to_csv(\"pouzdani_%s_%s_%s_%s_%s.csv\"%(ams,preslikavanje_opstina[row.opstina],preslikavanje_lokacija[row.mesto],row.usev,row.pocetak))    \n",
    "        idx_ref = pd.DatetimeIndex(start=novi.index[0], end=novi.index[-1], freq=\"h\")\n",
    "        gaps = idx_ref[~idx_ref.isin(novi.index)]\n",
    "        #print (gaps)\n",
    "        missing = pd.DataFrame(index=gaps)\n",
    "        missing.to_csv(\"missing_periods_%s_%s\" %(ams+row.opstina+row.mesto +row.usev,row.pocetak))\n",
    "        missing_periods_za_jedan_ams.append(missing)\n",
    "        missing_data_za_ams.append(missing_temperatures)\n",
    "    frejmovi_za_ams = pd.concat(tabele_za_jedan_ams)\n",
    "    frejmovi_za_ams.to_csv(\"%s_pouzdaniPeriodi_biljneVrste_lokacije.csv\" %(ams))\n",
    "    missing_periods = pd.concat(missing_periods_za_jedan_ams)\n",
    "    missing_periods.to_csv(\"%s_missing.csv\" %ams)\n",
    "    missing_data = pd.concat(missing_data_za_ams)\n",
    "    missing_data.to_csv(\"%s_missing_data.csv\" %ams)"
   ]
  }
 ],
 "metadata": {
  "kernelspec": {
   "display_name": "Python (modernpandas)",
   "language": "python",
   "name": "modernpandas"
  },
  "language_info": {
   "codemirror_mode": {
    "name": "ipython",
    "version": 3
   },
   "file_extension": ".py",
   "mimetype": "text/x-python",
   "name": "python",
   "nbconvert_exporter": "python",
   "pygments_lexer": "ipython3",
   "version": "3.7.1"
  }
 },
 "nbformat": 4,
 "nbformat_minor": 2
}
